{
 "cells": [
  {
   "cell_type": "code",
   "execution_count": 117,
   "metadata": {},
   "outputs": [],
   "source": [
    "import pandas as pd\n",
    "import numpy as np"
   ]
  },
  {
   "attachments": {},
   "cell_type": "markdown",
   "metadata": {},
   "source": [
    "## Import data"
   ]
  },
  {
   "cell_type": "code",
   "execution_count": 121,
   "metadata": {},
   "outputs": [],
   "source": [
    "'''\n",
    "This for loop was utilized to parse down the large .csv file into subfiles to upload project to github\n",
    "'''\n",
    "\n",
    "review = pd.read_csv('data/review_info.csv')\n",
    "author = pd.read_csv('data/author_info.csv')\n",
    "game = pd.read_csv('data/game_info.csv')\n",
    "\n",
    "for i in range(1, 26):\n",
    "\n",
    "    cut = review[(i-1) * int(1000000/25) : i * int(1000000/25)]\n",
    "    cut.to_csv('data/review_info' + str(i) + '.csv')\n",
    "\n",
    "for i in range(1, 4):\n",
    "\n",
    "    cut = author[(i-1) * int(len(author)/3) : i * int(len(author)/3)]\n",
    "    cut.to_csv('data/author_info' + str(i) + '.csv')\n",
    "\n",
    "for i in range(1, 4):\n",
    "\n",
    "    cut = game[(i-1) * int(len(game)/3) : i * int(len(game)/3)]\n",
    "    cut.to_csv('data/game_info' + str(i) + '.csv')"
   ]
  },
  {
   "cell_type": "code",
   "execution_count": 122,
   "metadata": {},
   "outputs": [],
   "source": [
    "purchase_import = pd.read_csv(\"data/purchase_info.csv\")\n",
    "\n",
    "# iterating through review_info and concating the data together\n",
    "for i in range(1, 25):\n",
    "    frame = pd.read_csv(\"data/review_info\" + str(i) + \".csv\")\n",
    "    if i == 1:\n",
    "        review_import = frame\n",
    "    else:\n",
    "        review_import = pd.concat([review_import, frame])\n",
    "\n",
    "for i in range(1, 4):\n",
    "    frame = pd.read_csv(\"data/author_info\" + str(i) + \".csv\")\n",
    "    if i == 1:\n",
    "        author_import = frame\n",
    "    else:\n",
    "        author_import = pd.concat([review_import, frame])\n",
    "\n",
    "for i in range(1, 4):\n",
    "    frame = pd.read_csv(\"data/game_info\" + str(i) + \".csv\")\n",
    "    if i == 1:\n",
    "        game_import = frame\n",
    "    else:\n",
    "        game_import = pd.concat([review_import, frame])"
   ]
  }
 ],
 "metadata": {
  "kernelspec": {
   "display_name": "Python 3",
   "language": "python",
   "name": "python3"
  },
  "language_info": {
   "codemirror_mode": {
    "name": "ipython",
    "version": 3
   },
   "file_extension": ".py",
   "mimetype": "text/x-python",
   "name": "python",
   "nbconvert_exporter": "python",
   "pygments_lexer": "ipython3",
   "version": "3.9.12"
  },
  "orig_nbformat": 4,
  "vscode": {
   "interpreter": {
    "hash": "84444d719ebead3b579a9e79f79ef09d5c85f42eb2cee43bd4be0fa2535b0a29"
   }
  }
 },
 "nbformat": 4,
 "nbformat_minor": 2
}
